{
 "cells": [
  {
   "cell_type": "code",
   "execution_count": 1,
   "metadata": {
    "ExecuteTime": {
     "end_time": "2020-06-01T22:20:35.593296Z",
     "start_time": "2020-06-01T22:20:35.358663Z"
    }
   },
   "outputs": [],
   "source": [
    "from ipyannotations import PolygonAnnotator, BoxAnnotator"
   ]
  },
  {
   "cell_type": "code",
   "execution_count": 2,
   "metadata": {
    "ExecuteTime": {
     "end_time": "2020-06-01T22:20:35.899592Z",
     "start_time": "2020-06-01T22:20:35.618017Z"
    }
   },
   "outputs": [
    {
     "data": {
      "application/vnd.jupyter.widget-view+json": {
       "model_id": "eced9f5d90c5499db724a35719c39bfa",
       "version_major": 2,
       "version_minor": 0
      },
      "text/plain": [
       "BoxAnnotator(children=(HBox(children=(VBox(children=(HTML(value='Visualisation settings'), FloatSlider(value=1…"
      ]
     },
     "metadata": {},
     "output_type": "display_data"
    }
   ],
   "source": [
    "file = './elephant.jpg'\n",
    "p = BoxAnnotator(canvas_size=(800, 1000), options=['1', '2', '3'])\n",
    "p.display(file)\n",
    "p"
   ]
  },
  {
   "cell_type": "code",
   "execution_count": 4,
   "metadata": {
    "ExecuteTime": {
     "end_time": "2020-06-01T22:07:52.797014Z",
     "start_time": "2020-06-01T22:07:52.752640Z"
    }
   },
   "outputs": [],
   "source": [
    "p.canvas.zoom_scale = 1"
   ]
  }
 ],
 "metadata": {
  "kernelspec": {
   "display_name": "Python 3",
   "language": "python",
   "name": "python3"
  },
  "language_info": {
   "codemirror_mode": {
    "name": "ipython",
    "version": 3
   },
   "file_extension": ".py",
   "mimetype": "text/x-python",
   "name": "python",
   "nbconvert_exporter": "python",
   "pygments_lexer": "ipython3",
   "version": "3.7.7"
  }
 },
 "nbformat": 4,
 "nbformat_minor": 4
}
