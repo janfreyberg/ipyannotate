{
 "cells": [
  {
   "cell_type": "code",
   "execution_count": 1,
   "metadata": {
    "ExecuteTime": {
     "end_time": "2020-05-31T21:32:16.251668Z",
     "start_time": "2020-05-31T21:32:15.872428Z"
    }
   },
   "outputs": [],
   "source": [
    "%load_ext autoreload\n",
    "%autoreload 2\n",
    "from ipyannotations import PolygonAnnotator, BoxAnnotator"
   ]
  },
  {
   "cell_type": "code",
   "execution_count": 2,
   "metadata": {
    "ExecuteTime": {
     "end_time": "2020-05-31T21:32:16.429644Z",
     "start_time": "2020-05-31T21:32:16.253491Z"
    }
   },
   "outputs": [
    {
     "data": {
      "application/vnd.jupyter.widget-view+json": {
       "model_id": "d1773b14a7f449ba902571e4f5075380",
       "version_major": 2,
       "version_minor": 0
      },
      "text/plain": [
       "BoxAnnotator(children=(BoundingBoxAnnotationCanvas(), HBox(children=(VBox(children=(HTML(value='Visualisation …"
      ]
     },
     "metadata": {},
     "output_type": "display_data"
    }
   ],
   "source": [
    "file = '../../../workspace/decipher/data/Datasets/LGI_light/invoice-000000-lay003.png'\n",
    "p = BoxAnnotator(canvas_size=(800, 800), options=['1', '2', '3'])\n",
    "p.display(file)\n",
    "p"
   ]
  },
  {
   "cell_type": "code",
   "execution_count": 5,
   "metadata": {
    "ExecuteTime": {
     "end_time": "2020-05-31T21:30:37.085190Z",
     "start_time": "2020-05-31T21:30:37.067191Z"
    }
   },
   "outputs": [
    {
     "data": {
      "text/plain": [
       "[]"
      ]
     },
     "execution_count": 5,
     "metadata": {},
     "output_type": "execute_result"
    }
   ],
   "source": [
    "p.canvas.annotations"
   ]
  },
  {
   "cell_type": "code",
   "execution_count": 5,
   "metadata": {
    "ExecuteTime": {
     "end_time": "2020-05-31T20:46:14.034925Z",
     "start_time": "2020-05-31T20:46:14.006142Z"
    }
   },
   "outputs": [
    {
     "data": {
      "text/plain": [
       "'NoneType: None\\n'"
      ]
     },
     "execution_count": 5,
     "metadata": {},
     "output_type": "execute_result"
    }
   ],
   "source": [
    "traceback.format_exc()"
   ]
  }
 ],
 "metadata": {
  "kernelspec": {
   "display_name": "Python 3",
   "language": "python",
   "name": "python3"
  },
  "language_info": {
   "codemirror_mode": {
    "name": "ipython",
    "version": 3
   },
   "file_extension": ".py",
   "mimetype": "text/x-python",
   "name": "python",
   "nbconvert_exporter": "python",
   "pygments_lexer": "ipython3",
   "version": "3.7.7"
  }
 },
 "nbformat": 4,
 "nbformat_minor": 4
}