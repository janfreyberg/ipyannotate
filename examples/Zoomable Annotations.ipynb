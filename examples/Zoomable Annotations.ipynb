{
 "cells": [
  {
   "cell_type": "code",
   "execution_count": 1,
   "metadata": {
    "ExecuteTime": {
     "end_time": "2020-07-25T12:42:28.718264Z",
     "start_time": "2020-07-25T12:42:28.337669Z"
    }
   },
   "outputs": [
    {
     "data": {
      "application/vnd.jupyter.widget-view+json": {
       "model_id": "5c080f17238545b5b3c70b7b55864c64",
       "version_major": 2,
       "version_minor": 0
      },
      "text/plain": [
       "BoxAnnotator(children=(HBox(children=(VBox(children=(HTML(value='Visualisation settings'), FloatSlider(value=1…"
      ]
     },
     "metadata": {},
     "output_type": "display_data"
    }
   ],
   "source": [
    "from ipyannotations import PolygonAnnotator, BoxAnnotator\n",
    "\n",
    "file = './elephant.jpg'\n",
    "p = BoxAnnotator(canvas_size=(800, 1000), options=['1', '2', '3'])\n",
    "p.display(file)\n",
    "p"
   ]
  },
  {
   "cell_type": "code",
   "execution_count": 2,
   "metadata": {
    "ExecuteTime": {
     "end_time": "2020-07-25T12:02:19.693147Z",
     "start_time": "2020-07-25T12:02:19.413208Z"
    }
   },
   "outputs": [
    {
     "data": {
      "application/vnd.jupyter.widget-view+json": {
       "model_id": "",
       "version_major": 2,
       "version_minor": 0
      },
      "text/plain": [
       "BoxAnnotator(children=(HBox(children=(VBox(children=(HTML(value='Visualisation settings'), FloatSlider(value=1…"
      ]
     },
     "metadata": {},
     "output_type": "display_data"
    }
   ],
   "source": [
    "file = './elephant.jpg'\n",
    "p = BoxAnnotator(canvas_size=(800, 1000), options=['1', '2', '3'])\n",
    "p.display(file)\n",
    "p"
   ]
  },
  {
   "cell_type": "code",
   "execution_count": null,
   "metadata": {},
   "outputs": [],
   "source": []
  },
  {
   "cell_type": "code",
   "execution_count": 6,
   "metadata": {
    "ExecuteTime": {
     "end_time": "2020-07-25T12:40:58.333738Z",
     "start_time": "2020-07-25T12:40:58.329415Z"
    }
   },
   "outputs": [
    {
     "data": {
      "text/plain": [
       "[]"
      ]
     },
     "execution_count": 6,
     "metadata": {},
     "output_type": "execute_result"
    }
   ],
   "source": [
    "p.data"
   ]
  },
  {
   "cell_type": "code",
   "execution_count": 2,
   "metadata": {
    "ExecuteTime": {
     "end_time": "2020-07-25T12:24:31.133865Z",
     "start_time": "2020-07-25T12:24:31.093329Z"
    }
   },
   "outputs": [
    {
     "data": {
      "application/vnd.jupyter.widget-view+json": {
       "model_id": "",
       "version_major": 2,
       "version_minor": 0
      },
      "text/plain": [
       "BoundingBoxAnnotationCanvas()"
      ]
     },
     "metadata": {},
     "output_type": "display_data"
    }
   ],
   "source": [
    "from ipyannotations.images.canvases import BoundingBoxAnnotationCanvas\n",
    "\n",
    "canvas = BoundingBoxAnnotationCanvas()\n",
    "canvas"
   ]
  },
  {
   "cell_type": "code",
   "execution_count": 6,
   "metadata": {
    "ExecuteTime": {
     "end_time": "2020-07-25T12:28:19.652021Z",
     "start_time": "2020-07-25T12:28:19.645557Z"
    }
   },
   "outputs": [
    {
     "data": {
      "text/plain": [
       "[{'type': 'box', 'label': '', 'xyxy': (133, 67, 289, 202)},\n",
       " {'type': 'box', 'label': '', 'xyxy': (87, 220, 360, 496)},\n",
       " {'type': 'box', 'label': '', 'xyxy': (134, 146, 477, 498)},\n",
       " {'type': 'box', 'label': '', 'xyxy': (112, 130, 113, 130)}]"
      ]
     },
     "execution_count": 6,
     "metadata": {},
     "output_type": "execute_result"
    }
   ],
   "source": [
    "canvas.data\n"
   ]
  },
  {
   "cell_type": "code",
   "execution_count": 4,
   "metadata": {
    "ExecuteTime": {
     "end_time": "2020-06-01T22:25:02.212821Z",
     "start_time": "2020-06-01T22:25:02.206910Z"
    }
   },
   "outputs": [
    {
     "data": {
      "text/plain": [
       "[{'type': 'box', 'label': '1', 'xyxy': (251, 83, 589, 212)},\n",
       " {'type': 'box', 'label': '1', 'xyxy': (259, 292, 596, 419)},\n",
       " {'type': 'box', 'label': '1', 'xyxy': (524, 18, 597, 57)},\n",
       " {'type': 'box', 'label': '1', 'xyxy': (184, 111, 313, 118)},\n",
       " {'type': 'box', 'label': '1', 'xyxy': (219, 154, 341, 305)},\n",
       " {'type': 'box', 'label': '1', 'xyxy': (357, 274, 393, 327)},\n",
       " {'type': 'box', 'label': '1', 'xyxy': (407, 254, 454, 319)}]"
      ]
     },
     "execution_count": 4,
     "metadata": {},
     "output_type": "execute_result"
    }
   ],
   "source": [
    "p.data"
   ]
  },
  {
   "cell_type": "code",
   "execution_count": 2,
   "metadata": {
    "ExecuteTime": {
     "end_time": "2020-07-25T12:51:26.375673Z",
     "start_time": "2020-07-25T12:51:21.281282Z"
    }
   },
   "outputs": [
    {
     "name": "stdout",
     "output_type": "stream",
     "text": [
      "Collecting pynput\n",
      "  Downloading pynput-1.6.8-py2.py3-none-any.whl (91 kB)\n",
      "\u001b[K     |████████████████████████████████| 91 kB 5.6 MB/s eta 0:00:011\n",
      "\u001b[?25hRequirement already satisfied: six in /opt/anaconda3/envs/ipyannotations/lib/python3.7/site-packages (from pynput) (1.15.0)\n",
      "Collecting pyobjc-framework-Quartz>=3.0; sys_platform == \"darwin\"\n",
      "  Downloading pyobjc_framework_Quartz-6.2.2-cp37-cp37m-macosx_10_9_x86_64.whl (138 kB)\n",
      "\u001b[K     |████████████████████████████████| 138 kB 24.7 MB/s eta 0:00:01\n",
      "\u001b[?25hCollecting pyobjc-framework-Cocoa>=6.2.2\n",
      "  Downloading pyobjc_framework_Cocoa-6.2.2-cp37-cp37m-macosx_10_9_x86_64.whl (276 kB)\n",
      "\u001b[K     |████████████████████████████████| 276 kB 13.1 MB/s eta 0:00:01\n",
      "\u001b[?25hCollecting pyobjc-core>=6.2.2\n",
      "  Downloading pyobjc_core-6.2.2-cp37-cp37m-macosx_10_9_x86_64.whl (292 kB)\n",
      "\u001b[K     |████████████████████████████████| 292 kB 22.3 MB/s eta 0:00:01\n",
      "\u001b[?25hInstalling collected packages: pyobjc-core, pyobjc-framework-Cocoa, pyobjc-framework-Quartz, pynput\n",
      "Successfully installed pynput-1.6.8 pyobjc-core-6.2.2 pyobjc-framework-Cocoa-6.2.2 pyobjc-framework-Quartz-6.2.2\n",
      "Note: you may need to restart the kernel to use updated packages.\n"
     ]
    }
   ],
   "source": [
    "pip install pynput\n"
   ]
  },
  {
   "cell_type": "code",
   "execution_count": 3,
   "metadata": {
    "ExecuteTime": {
     "end_time": "2020-07-25T12:51:29.246424Z",
     "start_time": "2020-07-25T12:51:28.931372Z"
    }
   },
   "outputs": [],
   "source": []
  },
  {
   "cell_type": "code",
   "execution_count": null,
   "metadata": {},
   "outputs": [],
   "source": []
  },
  {
   "cell_type": "code",
   "execution_count": null,
   "metadata": {
    "ExecuteTime": {
     "start_time": "2020-07-25T12:52:52.283Z"
    }
   },
   "outputs": [
    {
     "name": "stdout",
     "output_type": "stream",
     "text": [
      "release\n"
     ]
    }
   ],
   "source": [
    "with Listener(on_press=lambda x: print(x), on_release=lambda x: print('release')) as listener:\n",
    "    listener.join()"
   ]
  },
  {
   "cell_type": "code",
   "execution_count": null,
   "metadata": {},
   "outputs": [],
   "source": [
    "z"
   ]
  },
  {
   "cell_type": "code",
   "execution_count": null,
   "metadata": {},
   "outputs": [],
   "source": []
  },
  {
   "cell_type": "code",
   "execution_count": null,
   "metadata": {},
   "outputs": [],
   "source": []
  },
  {
   "cell_type": "code",
   "execution_count": 11,
   "metadata": {
    "ExecuteTime": {
     "end_time": "2020-07-25T12:56:35.696077Z",
     "start_time": "2020-07-25T12:56:35.692621Z"
    }
   },
   "outputs": [],
   "source": [
    "l = Listener(on_press=lambda k: print(f\"Key pressed: {k}\"), on_release=lambda k: print(f\"Key releaser: {k}\"))"
   ]
  },
  {
   "cell_type": "code",
   "execution_count": 12,
   "metadata": {
    "ExecuteTime": {
     "end_time": "2020-07-25T12:56:39.270083Z",
     "start_time": "2020-07-25T12:56:39.266617Z"
    }
   },
   "outputs": [
    {
     "name": "stdout",
     "output_type": "stream",
     "text": [
      "Key releaser: Key.alt\n",
      "Key pressed: Key.shift\n",
      "Key releaser: Key.shift\n",
      "Key pressed: Key.shift\n",
      "Key releaser: Key.shift\n",
      "Key pressed: Key.shift\n",
      "Key releaser: Key.shift\n",
      "Key pressed: Key.shift\n",
      "Key releaser: Key.shift\n"
     ]
    }
   ],
   "source": [
    "l.start()"
   ]
  },
  {
   "cell_type": "code",
   "execution_count": 13,
   "metadata": {
    "ExecuteTime": {
     "end_time": "2020-07-25T12:56:45.807069Z",
     "start_time": "2020-07-25T12:56:45.803561Z"
    }
   },
   "outputs": [
    {
     "name": "stdout",
     "output_type": "stream",
     "text": [
      "Key pressed: Key.ctrl\n",
      "Hello\n",
      "Key releaser: Key.ctrl\n",
      "Key pressed: Key.shift\n",
      "Key releaser: Key.shift\n",
      "Key pressed: Key.shift\n",
      "Key releaser: Key.shift\n",
      "Key pressed: Key.shift\n",
      "Key releaser: Key.shift\n",
      "Key pressed: Key.shift\n",
      "Key pressed: Key.cmd\n",
      "Key releaser: Key.shift\n",
      "Key releaser: Key.cmd\n",
      "Key pressed: Key.shift\n",
      "Key pressed: Key.cmd\n",
      "Key releaser: Key.shift\n",
      "Key releaser: Key.cmd\n",
      "Key pressed: Key.cmd\n",
      "Key releaser: Key.cmd\n",
      "Key pressed: Key.cmd\n",
      "Key releaser: Key.cmd\n",
      "Key pressed: Key.cmd\n",
      "Key releaser: Key.cmd\n",
      "Key pressed: Key.shift\n",
      "Key releaser: Key.shift\n",
      "Key pressed: Key.shift\n",
      "Key releaser: Key.shift\n",
      "Key pressed: Key.shift\n",
      "Key releaser: Key.shift\n",
      "Key pressed: Key.cmd\n",
      "Key releaser: Key.cmd\n",
      "Key pressed: Key.alt\n",
      "Key pressed: Key.shift\n",
      "Key releaser: Key.alt\n",
      "Key releaser: Key.shift\n",
      "Key pressed: Key.cmd\n",
      "Key releaser: Key.cmd\n",
      "Key pressed: Key.shift\n",
      "Key releaser: Key.shift\n",
      "Key pressed: Key.cmd\n",
      "Key releaser: Key.cmd\n",
      "Key pressed: Key.cmd\n",
      "Key releaser: Key.cmd\n",
      "Key pressed: Key.shift\n",
      "Key pressed: Key.cmd\n",
      "Key releaser: Key.cmd\n",
      "Key releaser: Key.shift\n",
      "Key pressed: Key.cmd\n",
      "Key releaser: Key.cmd\n",
      "Key pressed: Key.shift\n",
      "Key releaser: Key.shift\n",
      "Key pressed: Key.shift\n",
      "Key releaser: Key.shift\n",
      "Key pressed: Key.shift\n",
      "Key pressed: Key.ctrl\n",
      "Key releaser: Key.shift\n",
      "Key releaser: Key.ctrl\n",
      "Key pressed: Key.cmd\n",
      "Key releaser: Key.cmd\n",
      "Key pressed: Key.cmd\n",
      "Key pressed: Key.shift\n",
      "Key releaser: Key.cmd\n",
      "Key releaser: Key.shift\n",
      "Key pressed: Key.shift\n",
      "Key releaser: Key.shift\n",
      "Key pressed: Key.cmd\n",
      "Key releaser: Key.cmd\n",
      "Key pressed: Key.cmd\n",
      "Key releaser: Key.cmd\n",
      "Key pressed: Key.cmd\n",
      "Key releaser: Key.cmd\n",
      "Key pressed: Key.cmd\n",
      "Key pressed: Key.shift\n",
      "Key releaser: Key.shift\n",
      "Key releaser: Key.cmd\n",
      "Key pressed: Key.shift\n",
      "Key releaser: Key.shift\n",
      "Key pressed: Key.cmd\n",
      "Key releaser: Key.cmd\n",
      "Key pressed: Key.shift\n",
      "Key pressed: Key.alt\n",
      "Key releaser: Key.alt\n",
      "Key releaser: Key.shift\n",
      "Key pressed: Key.cmd\n",
      "Key releaser: Key.cmd\n",
      "Key pressed: Key.shift\n",
      "Key releaser: Key.shift\n",
      "Key pressed: Key.shift\n",
      "Key releaser: Key.shift\n",
      "Key pressed: Key.shift\n",
      "Key releaser: Key.shift\n",
      "Key pressed: Key.alt\n",
      "Key releaser: Key.alt\n",
      "Key pressed: Key.shift\n",
      "Key releaser: Key.shift\n",
      "Key pressed: Key.shift\n",
      "Key releaser: Key.shift\n",
      "Key pressed: Key.shift\n",
      "Key releaser: Key.shift\n",
      "Key pressed: Key.alt\n",
      "Key pressed: Key.shift\n",
      "Key releaser: Key.alt\n",
      "Key releaser: Key.shift\n",
      "Key pressed: Key.cmd\n",
      "Key releaser: Key.cmd\n",
      "Key pressed: Key.alt\n",
      "Key pressed: Key.shift\n",
      "Key releaser: Key.alt\n",
      "Key releaser: Key.shift\n",
      "Key pressed: Key.shift\n",
      "Key releaser: Key.shift\n",
      "Key pressed: Key.shift\n",
      "Key releaser: Key.shift\n",
      "Key pressed: Key.cmd\n",
      "Key releaser: Key.cmd\n",
      "Key pressed: Key.cmd\n",
      "Key releaser: Key.cmd\n",
      "Key pressed: Key.cmd\n",
      "Key releaser: Key.cmd\n",
      "Key pressed: Key.shift\n",
      "Key releaser: Key.shift\n",
      "Key pressed: Key.cmd\n",
      "Key releaser: Key.cmd\n",
      "Key pressed: Key.shift\n",
      "Key releaser: Key.shift\n",
      "Key pressed: Key.cmd\n",
      "Key releaser: Key.cmd\n",
      "Key pressed: Key.cmd\n",
      "Key releaser: Key.cmd\n",
      "Key pressed: Key.cmd\n",
      "Key releaser: Key.cmd\n",
      "Key pressed: Key.cmd\n",
      "Key releaser: Key.cmd\n",
      "Key pressed: Key.cmd\n",
      "Key releaser: Key.cmd\n",
      "Key pressed: Key.alt\n",
      "Key pressed: Key.shift\n",
      "Key releaser: Key.alt\n",
      "Key releaser: Key.shift\n",
      "Key pressed: Key.cmd\n",
      "Key releaser: Key.cmd\n",
      "Key pressed: Key.alt\n",
      "Key pressed: Key.shift\n",
      "Key releaser: Key.alt\n",
      "Key releaser: Key.shift\n",
      "Key pressed: Key.cmd\n",
      "Key releaser: Key.cmd\n",
      "Key pressed: Key.cmd\n",
      "Key releaser: Key.cmd\n",
      "Key pressed: Key.ctrl\n",
      "Key pressed: Key.cmd\n",
      "Key releaser: Key.cmd\n",
      "Key releaser: Key.ctrl\n",
      "Key pressed: Key.cmd\n",
      "Key releaser: Key.cmd\n",
      "Key pressed: Key.cmd\n",
      "Key releaser: Key.cmd\n",
      "Key pressed: Key.cmd\n",
      "Key releaser: Key.cmd\n",
      "Key pressed: Key.cmd\n",
      "Key releaser: Key.cmd\n",
      "Key pressed: Key.shift\n",
      "Key releaser: Key.shift\n",
      "Key pressed: Key.shift\n",
      "Key releaser: Key.shift\n",
      "Key pressed: Key.shift\n",
      "Key releaser: Key.shift\n",
      "Key pressed: Key.shift_r\n",
      "Key releaser: Key.shift_r\n",
      "Key pressed: Key.shift\n",
      "Key releaser: Key.shift\n",
      "Key pressed: Key.shift\n",
      "Key releaser: Key.shift\n",
      "Key pressed: Key.shift\n",
      "Key releaser: Key.shift\n",
      "Key pressed: Key.shift\n",
      "Key releaser: Key.shift\n",
      "Key pressed: Key.shift\n",
      "Key releaser: Key.shift\n",
      "Key pressed: Key.shift\n",
      "Key releaser: Key.shift\n",
      "Key pressed: Key.shift\n",
      "Key releaser: Key.shift\n",
      "Key pressed: Key.shift\n",
      "Key releaser: Key.shift\n",
      "Key pressed: Key.shift\n",
      "Key releaser: Key.shift\n",
      "Key pressed: Key.cmd\n",
      "Key releaser: Key.cmd\n",
      "Key pressed: Key.cmd\n",
      "Key releaser: Key.cmd\n",
      "Key pressed: Key.cmd\n",
      "Key releaser: Key.cmd\n",
      "Key pressed: Key.cmd\n",
      "Key pressed: Key.shift\n",
      "Key releaser: Key.shift\n",
      "Key releaser: Key.cmd\n",
      "Key pressed: Key.cmd\n",
      "Key releaser: Key.cmd\n",
      "Key pressed: Key.alt\n",
      "Key releaser: Key.alt\n",
      "Key pressed: Key.cmd\n",
      "Key releaser: Key.cmd\n"
     ]
    }
   ],
   "source": [
    "print('Hello')"
   ]
  },
  {
   "cell_type": "code",
   "execution_count": null,
   "metadata": {},
   "outputs": [],
   "source": [
    "world"
   ]
  },
  {
   "cell_type": "code",
   "execution_count": null,
   "metadata": {},
   "outputs": [],
   "source": []
  },
  {
   "cell_type": "code",
   "execution_count": null,
   "metadata": {},
   "outputs": [],
   "source": []
  },
  {
   "cell_type": "code",
   "execution_count": null,
   "metadata": {},
   "outputs": [],
   "source": []
  },
  {
   "cell_type": "code",
   "execution_count": null,
   "metadata": {},
   "outputs": [],
   "source": []
  }
 ],
 "metadata": {
  "kernelspec": {
   "display_name": "Python 3",
   "language": "python",
   "name": "python3"
  },
  "language_info": {
   "codemirror_mode": {
    "name": "ipython",
    "version": 3
   },
   "file_extension": ".py",
   "mimetype": "text/x-python",
   "name": "python",
   "nbconvert_exporter": "python",
   "pygments_lexer": "ipython3",
   "version": "3.7.7"
  },
  "toc": {
   "base_numbering": 1,
   "nav_menu": {},
   "number_sections": true,
   "sideBar": true,
   "skip_h1_title": false,
   "title_cell": "Table of Contents",
   "title_sidebar": "Contents",
   "toc_cell": false,
   "toc_position": {
    "height": "calc(100% - 180px)",
    "left": "10px",
    "top": "150px",
    "width": "165px"
   },
   "toc_section_display": true,
   "toc_window_display": true
  }
 },
 "nbformat": 4,
 "nbformat_minor": 4
}
