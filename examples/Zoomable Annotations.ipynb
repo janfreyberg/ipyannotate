{
 "cells": [
  {
   "cell_type": "code",
   "execution_count": 1,
   "metadata": {
    "ExecuteTime": {
     "end_time": "2020-07-25T12:07:25.050735Z",
     "start_time": "2020-07-25T12:07:24.583710Z"
    }
   },
   "outputs": [
    {
     "name": "stdout",
     "output_type": "stream",
     "text": [
      "Layout(align_items='center', margin='0px 0px 0px 20px')\n"
     ]
    },
    {
     "data": {
      "application/vnd.jupyter.widget-view+json": {
       "model_id": "cedff4a87c6d49679f9d7868ea4df7ca",
       "version_major": 2,
       "version_minor": 0
      },
      "text/plain": [
       "BoxAnnotator(children=(HBox(children=(VBox(children=(HTML(value='Visualisation settings'), FloatSlider(value=1…"
      ]
     },
     "metadata": {},
     "output_type": "display_data"
    }
   ],
   "source": [
    "from ipyannotations import PolygonAnnotator, BoxAnnotator\n",
    "\n",
    "file = './elephant.jpg'\n",
    "p = BoxAnnotator(canvas_size=(800, 1000), options=['1', '2', '3'])\n",
    "p.display(file)\n",
    "p"
   ]
  },
  {
   "cell_type": "code",
   "execution_count": 4,
   "metadata": {
    "ExecuteTime": {
     "end_time": "2020-06-01T22:25:02.212821Z",
     "start_time": "2020-06-01T22:25:02.206910Z"
    }
   },
   "outputs": [
    {
     "data": {
      "text/plain": [
       "[{'type': 'box', 'label': '1', 'xyxy': (251, 83, 589, 212)},\n",
       " {'type': 'box', 'label': '1', 'xyxy': (259, 292, 596, 419)},\n",
       " {'type': 'box', 'label': '1', 'xyxy': (524, 18, 597, 57)},\n",
       " {'type': 'box', 'label': '1', 'xyxy': (184, 111, 313, 118)},\n",
       " {'type': 'box', 'label': '1', 'xyxy': (219, 154, 341, 305)},\n",
       " {'type': 'box', 'label': '1', 'xyxy': (357, 274, 393, 327)},\n",
       " {'type': 'box', 'label': '1', 'xyxy': (407, 254, 454, 319)}]"
      ]
     },
     "execution_count": 4,
     "metadata": {},
     "output_type": "execute_result"
    }
   ],
   "source": [
    "p.data"
   ]
  }
 ],
 "metadata": {
  "kernelspec": {
   "display_name": "Python 3",
   "language": "python",
   "name": "python3"
  },
  "language_info": {
   "codemirror_mode": {
    "name": "ipython",
    "version": 3
   },
   "file_extension": ".py",
   "mimetype": "text/x-python",
   "name": "python",
   "nbconvert_exporter": "python",
   "pygments_lexer": "ipython3",
   "version": "3.7.7"
  },
  "toc": {
   "base_numbering": 1,
   "nav_menu": {},
   "number_sections": true,
   "sideBar": true,
   "skip_h1_title": false,
   "title_cell": "Table of Contents",
   "title_sidebar": "Contents",
   "toc_cell": false,
   "toc_position": {
    "height": "calc(100% - 180px)",
    "left": "10px",
    "top": "150px",
    "width": "165px"
   },
   "toc_section_display": true,
   "toc_window_display": true
  }
 },
 "nbformat": 4,
 "nbformat_minor": 4
}
