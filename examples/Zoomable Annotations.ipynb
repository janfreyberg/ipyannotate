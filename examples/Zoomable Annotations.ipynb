{
 "cells": [
  {
   "cell_type": "code",
   "execution_count": 1,
   "metadata": {
    "ExecuteTime": {
     "end_time": "2020-06-01T22:30:16.032350Z",
     "start_time": "2020-06-01T22:30:15.800875Z"
    }
   },
   "outputs": [],
   "source": [
    "from ipyannotations import PolygonAnnotator, BoxAnnotator"
   ]
  },
  {
   "cell_type": "code",
   "execution_count": 2,
   "metadata": {
    "ExecuteTime": {
     "end_time": "2020-06-01T22:30:16.320498Z",
     "start_time": "2020-06-01T22:30:16.036942Z"
    }
   },
   "outputs": [
    {
     "data": {
      "application/vnd.jupyter.widget-view+json": {
       "model_id": "b868ed1c3da3422db252c9a15927b71a",
       "version_major": 2,
       "version_minor": 0
      },
      "text/plain": [
       "BoxAnnotator(children=(HBox(children=(VBox(children=(HTML(value='Visualisation settings'), FloatSlider(value=1…"
      ]
     },
     "metadata": {},
     "output_type": "display_data"
    }
   ],
   "source": [
    "file = './elephant.jpg'\n",
    "p = BoxAnnotator(canvas_size=(800, 1000), options=['1', '2', '3'])\n",
    "p.display(file)\n",
    "p"
   ]
  },
  {
   "cell_type": "code",
   "execution_count": null,
   "metadata": {},
   "outputs": [],
   "source": []
  },
  {
   "cell_type": "code",
   "execution_count": 4,
   "metadata": {
    "ExecuteTime": {
     "end_time": "2020-06-01T22:25:02.212821Z",
     "start_time": "2020-06-01T22:25:02.206910Z"
    }
   },
   "outputs": [
    {
     "data": {
      "text/plain": [
       "[{'type': 'box', 'label': '1', 'xyxy': (251, 83, 589, 212)},\n",
       " {'type': 'box', 'label': '1', 'xyxy': (259, 292, 596, 419)},\n",
       " {'type': 'box', 'label': '1', 'xyxy': (524, 18, 597, 57)},\n",
       " {'type': 'box', 'label': '1', 'xyxy': (184, 111, 313, 118)},\n",
       " {'type': 'box', 'label': '1', 'xyxy': (219, 154, 341, 305)},\n",
       " {'type': 'box', 'label': '1', 'xyxy': (357, 274, 393, 327)},\n",
       " {'type': 'box', 'label': '1', 'xyxy': (407, 254, 454, 319)}]"
      ]
     },
     "execution_count": 4,
     "metadata": {},
     "output_type": "execute_result"
    }
   ],
   "source": [
    "p.data"
   ]
  }
 ],
 "metadata": {
  "kernelspec": {
   "display_name": "Python 3",
   "language": "python",
   "name": "python3"
  },
  "language_info": {
   "codemirror_mode": {
    "name": "ipython",
    "version": 3
   },
   "file_extension": ".py",
   "mimetype": "text/x-python",
   "name": "python",
   "nbconvert_exporter": "python",
   "pygments_lexer": "ipython3",
   "version": "3.7.7"
  }
 },
 "nbformat": 4,
 "nbformat_minor": 4
}
